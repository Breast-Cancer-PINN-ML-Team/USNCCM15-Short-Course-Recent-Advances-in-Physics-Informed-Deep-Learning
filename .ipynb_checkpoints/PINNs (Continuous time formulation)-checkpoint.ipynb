{
 "cells": [
  {
   "cell_type": "markdown",
   "metadata": {},
   "source": [
    "# Physics-informed neural networks\n",
    "The recent works of Raissi {\\em et. al.} \\cite{raissi2017physics1,raissi2017physics2, raissi2018hidden,raissi2018deep,raissi2019physics} have  demonstrated how classical conservation laws and numerical discretization schemes can be used as structured prior information that can enhance the robustness and efficiency of modern machine learning algorithms, introducing a new class of data-driven solvers, as well as a {\\em physics-informed machine learning} approach to model discovery. To this end, the authors have considered constructing deep neural networks that return predictions which are constrained by parametrized partial differential equations (PDE) of the form\n",
    "\n",
    "$$\n",
    "{u}_t + \\mathcal{N}_{{x}}{u} = 0,\n",
    "$$\n",
    "\n",
    "where $u(x,t)$ is represented by a deep neural network parametrized by a set of parameters $\\theta$, i.e. $u({x},t) = f_{\\theta}({x},t)$, ${x}$ is a vector of space coordinates, $t$ is the time coordinate, and $\\mathcal{N}_{{x}}$ is a nonlinear differential operator. As neural networks are differentiable representations, this construction defines a so-called {\\em physics informed neural network} that corresponds to the PDE residual, i.e. \n",
    "\n",
    "$$r_{\\theta}({x},t):= \\frac{\\partial}{\\partial t} f_{\\theta}({x},t)  + \\mathcal{N}_{{x}}f_{\\theta}({x},t).$$\n",
    "\n",
    "This new network has the same parameters as the network representing ${u}({x},t)$, albeit different activation functions due to the action of the differential operator \\cite{raissi2017physics1, psichogios1992hybrid, lagaris1998artificial}. From an implementation perspective, this network can be readily obtained by leveraging recent progress in automatic differentiation \\cite{baydin2015automatic, abadi2016tensorflow}.\n",
    "The resulting training procedure allows us to recover the shared network parameters $\\theta$ using a few scattered observations of ${u}({x},t)$, namely \n",
    "\n",
    "$$\\{({x}_{i}, t_i), {u}_i\\}, \\ \\ i = 1,\\dots,N_u,$$\n",
    "\n",
    "along with a larger number of collocation points, \n",
    "\n",
    "$$\\{({x}_{i}, t_i), {r}_i\\}, \\ \\ i = 1,\\dots,N_r,$$\n",
    "\n",
    "that aim to penalize the PDE residual at a finite set of $N_r$ collocation nodes. \n",
    "The data for the residual are typically zero (i.e. ${r}_i=0$), or they may correspond to external forcing terms evaluated at the corresponding location $({x}_{i}, t_i)$, $i=1,\\dots,N_r$.\n",
    "\n",
    "This simple, yet remarkably effective regularization procedure allows us to introduce the PDE residual as a soft penalty constraint penalty in the likelihood function of the model \\cite{raissi2017physics1,raissi2017physics2}, and the resulting optimization problem can be effectively solved using standard stochastic gradient descent without necessitating any elaborate constrained optimization techniques, simply by minimizing the composite loss function\n",
    "\n",
    "$$\n",
    "\\mathcal{L}(\\theta) = \\frac{1}{N_u}\\sum\\limits_{i=1}^{N_u}\\|f_{\\theta}({x}_{i}, t_i) - {u}_i\\|^2  +   \\frac{1}{N_r}\\sum\\limits_{i=1}^{N_r}\\|r_{\\theta}({x}_{i}, t_i) - {r}_i\\|^2, \n",
    "$$\n",
    "\n",
    "where the required gradients $\\frac{\\partial \\mathcal{L}}{\\partial \\theta}$ can be readily obtained using automatic differentiation \\cite{baydin2015automatic}. \n",
    "Finally, as the resulting predictions are encouraged to inherit any physical properties imposed by the PDE constraint (e.g., conservation, invariance, symmetries, etc.), this approach showcases how one can approximately encode physical and domain-specific constraints in modern machine learning algorithms and introduce a new form of regularization for learning from {\\em small} data-sets.\n",
    "\n",
    "In all cases pertaining to data-driven solution of partial differential equations, the total number of training data $N_u$ is relatively small (a few hundred up to a few thousand points), and we chose to optimize all loss functions using L-BFGS, a quasi-Newton, full-batch gradient-based optimization algorithm \\cite{liu1989limited}. For larger data-sets, a more computationally efficient mini-batch setting can be readily employed using stochastic gradient descent and its modern variants \\cite{goodfellow2016deep,kingma2014adam}. Despite the fact that there is no theoretical guarantee that this procedure converges to a global minimum, our empirical evidence indicates that, if the given partial differential equation is well-posed and its solution is unique, the method is capable of achieving good prediction accuracy given a sufficiently expressive neural network architecture and a sufficient number of collocation points $N_r$. "
   ]
  },
  {
   "cell_type": "markdown",
   "metadata": {},
   "source": [
    "# Tensorflow Implementation\n",
    "\n",
    "To highlight different implementation aspects, consider a simple linear elliptic PDE in one dimension:\n",
    "\n",
    "$$\n",
    "u_{xx}(x) = f(x), \\ \\ x\\in[-1.0,1.0],\\\\\n",
    "u(-1)=u(1) = 0,\n",
    "$$\n",
    "with a forcing term given by\n",
    "$$\n",
    "f(x):= -5\\pi^2 \\sin(\\pi x) - 64\\pi^2 \\sin(8\\pi x) - 128\\pi^2 \\sin(16\\pi x)\n",
    "$$\n",
    "\n",
    "All elements defining our neural network implementation can be summarized in the following Tensorflow class."
   ]
  },
  {
   "cell_type": "code",
   "execution_count": 1,
   "metadata": {},
   "outputs": [
    {
     "name": "stderr",
     "output_type": "stream",
     "text": [
      "/anaconda3/lib/python3.6/site-packages/h5py/__init__.py:36: FutureWarning: Conversion of the second argument of issubdtype from `float` to `np.floating` is deprecated. In future, it will be treated as `np.float64 == np.dtype(float).type`.\n",
      "  from ._conv import register_converters as _register_converters\n"
     ]
    }
   ],
   "source": [
    "import tensorflow as tf\n",
    "import numpy as np\n",
    "import matplotlib.pyplot as plt\n",
    "import timeit\n",
    "from tqdm import tqdm\n",
    "\n",
    "np.random.seed(1234)\n",
    "tf.set_random_seed(1234)"
   ]
  },
  {
   "cell_type": "code",
   "execution_count": 13,
   "metadata": {},
   "outputs": [],
   "source": [
    "'''\n",
    "PINN Tensorflow class for solving\n",
    "u_xx = f(x)\n",
    "'''\n",
    "\n",
    "class Elliptic1D:\n",
    "    # Initialize the class\n",
    "    def __init__(self, X_u, Y_u, X_r, f_tf, layers):\n",
    "        \n",
    "        # Normalization constants\n",
    "        self.mu_x, self.sigma_x = X_r.mean(0), X_r.std(0)\n",
    "        \n",
    "        # Normalize inputs and outputs\n",
    "        X_u = (X_u - self.mu_x)/self.sigma_x\n",
    "        X_r = (X_r - self.mu_x)/self.sigma_x\n",
    "        \n",
    "        self.N_u = X_u.shape[0]\n",
    "        self.N_r = X_r.shape[0]\n",
    "        \n",
    "        # Store data                \n",
    "        self.X_u = X_u\n",
    "        self.Y_u = Y_u\n",
    "        \n",
    "        self.X_r = X_r\n",
    "        self.Y_r = np.zeros((self.N_r,1))\n",
    "        \n",
    "        self.f = f_tf\n",
    "        self.layers = layers\n",
    "        \n",
    "        # Initialize network weights and biases        \n",
    "        self.weights, self.biases = self.initialize_NN(layers)\n",
    "        \n",
    "        # Define Tensorflow session\n",
    "        self.sess = tf.Session(config=tf.ConfigProto(log_device_placement=True))\n",
    "        \n",
    "        # Define placeholders and computational graph\n",
    "        self.Xu_tf = tf.placeholder(tf.float32, shape=(None, self.X_u.shape[1]))\n",
    "        self.Yu_tf = tf.placeholder(tf.float32, shape=(None, self.Y_u.shape[1]))\n",
    "        self.Xr_tf = tf.placeholder(tf.float32, shape=(None, self.X_r.shape[1]))\n",
    "        \n",
    "        # Evaluate prediction\n",
    "        self.u_pred = self.net_u(self.Xu_tf)\n",
    "        self.r_pred = self.net_r(self.Xr_tf)\n",
    "        \n",
    "        # Evaluate loss\n",
    "        self.loss_u = tf.reduce_mean(tf.square(self.Yu_tf - self.u_pred))\n",
    "        self.loss_r = tf.reduce_mean(tf.square(self.r_pred))\n",
    "               \n",
    "        self.loss = self.loss_u + self.loss_r\n",
    "     \n",
    "        # Define optimizer  with learning rate schedule\n",
    "        self.global_step = tf.Variable(0, trainable=False)\n",
    "        starter_learning_rate = 1e-3\n",
    "        self.learning_rate = tf.train.exponential_decay(starter_learning_rate, self.global_step,\n",
    "                                                   1000, 0.9, staircase=False)\n",
    "        # Passing global_step to minimize() will increment it at each step.\n",
    "        self.train_op = tf.train.AdamOptimizer(self.learning_rate).minimize(self.loss, global_step=self.global_step)\n",
    "                \n",
    "        # Define optimizer (use L-BFGS for better accuracy)       \n",
    "        self.optimizer = tf.contrib.opt.ScipyOptimizerInterface(self.loss, \n",
    "                                                                method = 'L-BFGS-B', \n",
    "                                                                options = {'maxiter': 50000,\n",
    "                                                                           'maxfun': 50000,\n",
    "                                                                           'maxcor': 50,\n",
    "                                                                           'maxls': 50,\n",
    "                                                                           'ftol' : 1.0 * np.finfo(np.float32).eps})\n",
    "        \n",
    "        # Logger\n",
    "        self.loss_u_log = []\n",
    "        self.loss_r_log = []\n",
    "        self.saver = tf.train.Saver()\n",
    "        \n",
    "        # Initialize Tensorflow variables\n",
    "        init = tf.global_variables_initializer()\n",
    "        self.sess.run(init)\n",
    "\n",
    "    \n",
    "    # Initialize network weights and biases using Xavier initialization\n",
    "    def initialize_NN(self, layers):      \n",
    "        # Xavier initialization\n",
    "        def xavier_init(size):\n",
    "            in_dim = size[0]\n",
    "            out_dim = size[1]\n",
    "            xavier_stddev = 1. / np.sqrt((in_dim + out_dim) / 2.)\n",
    "            return tf.Variable(tf.random_normal([in_dim, out_dim], dtype=tf.float32) * xavier_stddev, dtype=tf.float32)   \n",
    "        \n",
    "        weights = []\n",
    "        biases = []\n",
    "        num_layers = len(layers) \n",
    "        for l in range(0,num_layers-1):\n",
    "            W = xavier_init(size=[layers[l], layers[l+1]])\n",
    "            b = tf.Variable(tf.zeros([1,layers[l+1]], dtype=tf.float32), dtype=tf.float32)\n",
    "            weights.append(W)\n",
    "            biases.append(b)        \n",
    "        return weights, biases\n",
    "       \n",
    "           \n",
    "    # Evaluates the forward pass\n",
    "    def forward_pass(self, H):\n",
    "        num_layers = len(self.layers)\n",
    "        for l in range(0,num_layers-2):\n",
    "            W = self.weights[l]\n",
    "            b = self.biases[l]\n",
    "            H = tf.tanh(tf.add(tf.matmul(H, W), b))\n",
    "        W = self.weights[-1]\n",
    "        b = self.biases[-1]\n",
    "        H = tf.add(tf.matmul(H, W), b)\n",
    "        return H\n",
    "    \n",
    "    \n",
    "    # Forward pass for u\n",
    "    def net_u(self, x):\n",
    "        u = self.forward_pass(x)\n",
    "        return u\n",
    "    \n",
    "    \n",
    "    # Forward pass for f\n",
    "    def net_r(self, x):\n",
    "        # lhs\n",
    "        u = self.net_u(x)\n",
    "        u_x = tf.gradients(u, x)[0]/self.sigma_x\n",
    "        u_xx = tf.gradients(u_x, x)[0]/self.sigma_x\n",
    "        \n",
    "        # rhs\n",
    "        f = self.f(x*self.sigma_x + self.mu_x)\n",
    "        \n",
    "        residual = u_xx - f\n",
    "        return residual\n",
    "\n",
    "    # Callback to print the loss at every optimization step\n",
    "    def callback(self, loss_u, loss_r):\n",
    "        print('Loss_u: %.3e, Loss_r: %.3e' % \n",
    "                      (loss_u, loss_r))\n",
    "\n",
    "    # Trains the model by minimizing the MSE loss using Adam\n",
    "    def train(self, nIter = 10000): \n",
    "        \n",
    "        # Define a dictionary for associating placeholders with data\n",
    "        tf_dict = {self.Xu_tf: self.X_u, self.Yu_tf: self.Y_u,\n",
    "                   self.Xr_tf: self.X_r}\n",
    "\n",
    "        start_time = timeit.default_timer()\n",
    "        for it in tqdm(range(nIter)):                 \n",
    "            # Run the Tensorflow session to minimize the loss\n",
    "            self.sess.run(self.train_op, tf_dict)\n",
    "            \n",
    "            # Print\n",
    "            if it % 50 == 0:\n",
    "                elapsed = timeit.default_timer() - start_time\n",
    "                loss_value = self.sess.run(self.loss, tf_dict)\n",
    "                loss_u_value = self.sess.run(self.loss_u, tf_dict)\n",
    "                loss_r_value = self.sess.run(self.loss_r, tf_dict)\n",
    "                self.loss_u_log.append(loss_u_value)\n",
    "                self.loss_r_log.append(loss_r_value)\n",
    "#                 print('It: %d, Loss: %.3e, Loss_u: %.3e, Loss_r: %.3e, Time: %.2f' % \n",
    "#                       (it, loss_value, loss_u_value, loss_r_value, elapsed))\n",
    "                start_time = timeit.default_timer()\n",
    "            \n",
    "    # Trains the model by minimizing the MSE loss using L-BFGS\n",
    "    def fine_tune(self):\n",
    "        # Define a dictionary for associating placeholders with data\n",
    "        tf_dict = {self.Xu_tf: self.X_u, self.Yu_tf: self.Y_u,\n",
    "                   self.Xr_tf: self.X_r}\n",
    "\n",
    "        # Call SciPy's L-BFGS otpimizer\n",
    "        self.optimizer.minimize(self.sess, \n",
    "                                feed_dict = tf_dict,         \n",
    "                                fetches = [self.loss_u, self.loss_r], \n",
    "                                loss_callback = self.callback)\n",
    "        \n",
    "                \n",
    "    # Evaluates predictions at test points           \n",
    "    def predict_u(self, X_star):\n",
    "        X_star = (X_star - self.mu_x)/self.sigma_x\n",
    "        tf_dict = {self.Xu_tf: X_star}       \n",
    "        u_star = self.sess.run(self.u_pred, tf_dict) \n",
    "        return u_star\n",
    "    \n",
    "    # Evaluates predictions at test points           \n",
    "    def predict_r(self, X_star):     \n",
    "        X_star = (X_star - self.mu_x)/self.sigma_x\n",
    "        tf_dict = {self.Xr_tf: X_star}       \n",
    "        r_star = self.sess.run(self.r_pred, tf_dict) \n",
    "        return r_star"
   ]
  },
  {
   "cell_type": "markdown",
   "metadata": {},
   "source": [
    "# Example simulation\n",
    "\n",
    "Now we are ready to set up and execute our first PINN simulation. For this problem we know that the exact solution is given by\n",
    "\n",
    "$$\n",
    "u(x) = 5\\sin(\\pi x) + \\sin(8\\pi x) + 0.5\\sin(16\\pi x)\n",
    "$$\n",
    "and we can use this to validate the neural net predictions."
   ]
  },
  {
   "cell_type": "code",
   "execution_count": 14,
   "metadata": {},
   "outputs": [],
   "source": [
    "# Define forcing term\n",
    "def f(x):\n",
    "    return -np.pi**2 * np.sin(np.pi*x)\n",
    "\n",
    "# Define forcing term (in Tensorflow semantics)\n",
    "def f_tf(x):\n",
    "    return -np.pi**2 * tf.sin(np.pi*x)\n",
    "    \n",
    "# Define exact solution (for validation purposes)    \n",
    "def u(x):\n",
    "    return np.sin(np.pi*x)\n",
    "\n",
    "# Number of training data\n",
    "N_u = 2                        # Boundary condition data on u(x)\n",
    "N_r = 200                      # Number of collocation points for minimizing the PDE residual\n",
    "layers = [1,50,50,50,50,1]     # Fully-connected neural net architecture (dimensions of each layer)\n",
    "lb  = np.array([-1.0])         # Left boundary of the domain\n",
    "ub  = np.array([1.0])          # Right boundary of the domain\n",
    "\n",
    "# Generate training data\n",
    "x_u = np.linspace(lb, ub, N_u)[:,None]     # Location of boundary points (dimension N_u x 1)\n",
    "x_r = np.linspace(lb, ub, N_r)[:,None]     # Location of collocation points (dimension N_r x 1)\n",
    "y_u = u(x_u)                               # Solution at boundary points (dimension N_u x 1)\n",
    "\n",
    "# Test data for validating the model predictions\n",
    "n_star = 5000\n",
    "x_star = np.linspace(lb, ub, n_star)[:,None]\n",
    "u_star = u(x_star)\n",
    "f_star = f(x_star)"
   ]
  },
  {
   "cell_type": "code",
   "execution_count": 15,
   "metadata": {},
   "outputs": [],
   "source": [
    "#  Define PINN model\n",
    "model = Elliptic1D(x_u, y_u, x_r, layers)   "
   ]
  },
  {
   "cell_type": "code",
   "execution_count": 16,
   "metadata": {},
   "outputs": [
    {
     "name": "stderr",
     "output_type": "stream",
     "text": [
      "100%|██████████| 20000/20000 [00:35<00:00, 556.87it/s]\n"
     ]
    }
   ],
   "source": [
    "# Train model using full batch gradient descent\n",
    "model.train(nIter = 20000)"
   ]
  },
  {
   "cell_type": "code",
   "execution_count": 11,
   "metadata": {},
   "outputs": [
    {
     "name": "stdout",
     "output_type": "stream",
     "text": [
      "Relative L2 error_u: 2.874200e-05\n"
     ]
    }
   ],
   "source": [
    "# Compute prediction using the trained model\n",
    "u_pred = model.predict_u(x_star)\n",
    "error_u = np.linalg.norm(u_star-u_pred, 2)/np.linalg.norm(u_star, 2)\n",
    "print('Relative L2 error_u: %e' % (error_u))"
   ]
  },
  {
   "cell_type": "code",
   "execution_count": 17,
   "metadata": {},
   "outputs": [
    {
     "data": {
      "text/plain": [
       "<matplotlib.legend.Legend at 0x7f9f086ba710>"
      ]
     },
     "execution_count": 17,
     "metadata": {},
     "output_type": "execute_result"
    },
    {
     "data": {
      "image/png": "[encoded data removed]",
      "text/plain": [
       "<Figure size 432x288 with 1 Axes>"
      ]
     },
     "metadata": {},
     "output_type": "display_data"
    },
    {
     "data": {
      "image/png": "[encoded data removed]",
      "text/plain": [
       "<Figure size 432x288 with 1 Axes>"
      ]
     },
     "metadata": {},
     "output_type": "display_data"
    }
   ],
   "source": [
    "# Plotting\n",
    "plt.figure(1)\n",
    "plt.plot(x_star, u_star, 'b-', linewidth = 2, label = \"Exact\")\n",
    "plt.plot(x_star, u_pred, 'r--', linewidth = 2, label = \"Prediction\")\n",
    "plt.plot(x_u, y_u, 'kx', linewidth = 2, label = \"Boundary data\")\n",
    "plt.legend(frameon=False, loc='upper left')\n",
    "plt.xlabel('$x$')\n",
    "plt.ylabel('$u(x)$')\n",
    "\n",
    "\n",
    "fig = plt.figure(2)\n",
    "ax = fig.add_subplot(1,1,1)\n",
    "ax.plot(model.loss_u_log, label = '$u$')\n",
    "ax.plot(model.loss_r_log, label = '$r$')\n",
    "ax.set_yscale('log')\n",
    "plt.legend()"
   ]
  },
  {
   "cell_type": "code",
   "execution_count": 12,
   "metadata": {},
   "outputs": [
    {
     "data": {
      "text/plain": [
       "'./SavedModels/elliptic1d.ckpt'"
      ]
     },
     "execution_count": 12,
     "metadata": {},
     "output_type": "execute_result"
    }
   ],
   "source": [
    "# Save model\n",
    "model.saver.save(model.sess, \"./SavedModels/elliptic1d.ckpt\")"
   ]
  },
  {
   "cell_type": "code",
   "execution_count": null,
   "metadata": {},
   "outputs": [],
   "source": []
  }
 ],
 "metadata": {
  "kernelspec": {
   "display_name": "TensorFlow-GPU",
   "language": "python",
   "name": "tensorflow"
  },
  "language_info": {
   "codemirror_mode": {
    "name": "ipython",
    "version": 3
   },
   "file_extension": ".py",
   "mimetype": "text/x-python",
   "name": "python",
   "nbconvert_exporter": "python",
   "pygments_lexer": "ipython3",
   "version": "3.6.5"
  }
 },
 "nbformat": 4,
 "nbformat_minor": 2
}
