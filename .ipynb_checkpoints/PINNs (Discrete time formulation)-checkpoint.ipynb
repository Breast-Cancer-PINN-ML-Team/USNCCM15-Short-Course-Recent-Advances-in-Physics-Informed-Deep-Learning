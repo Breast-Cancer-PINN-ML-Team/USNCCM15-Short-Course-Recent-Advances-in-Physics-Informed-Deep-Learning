{
 "cells": [
  {
   "cell_type": "markdown",
   "metadata": {},
   "source": [
    "# USNCCM15 Short Course\n",
    "# SC15-005: Machine Learning Data-Driven Discretization Theories, Modeling and Applications\n",
    "\n",
    "# Hands-on tutorial on Physics-Informed Neural Networks \n",
    "## (Part II: Discrete time formulation)\n",
    "## Instructor: Paris Perdikaris, pgp@seas.upenn.edu\n",
    "## Code repository: https://github.com/PredictiveIntelligenceLab/USNCCM15-Short-Course-Recent-Advances-in-Physics-Informed-Deep-Learning"
   ]
  },
  {
   "cell_type": "markdown",
   "metadata": {},
   "source": [
    "# Physics-informed neural networks in discrete time\n",
    "\n",
    "One potential limitation of the continuous time neural network models (see [Part I](https://github.com/PredictiveIntelligenceLab/USNCCM15-Short-Course-Recent-Advances-in-Physics-Informed-Deep-Learning) of this tutorial) considered so far stems from the need to use a large number of collocation points $N_r$ in order to enforce physics-informed constraints in the entire spatio-temporal domain. Although this poses no significant issues for problems in one or two spatial dimensions, it may introduce a severe bottleneck in higher dimensional problems, as the total number of collocation points needed to globally enforce a physics-informed constrain (i.e., in our case a partial differential equation) will increase exponentially. Although this limitation could be addressed to some extend using sparse grid or quasi Monte-Carlo sampling schemes \\cite{bungartz2004sparse,sloan1998quasi}, in the next section, we put forth a different approach that circumvents the need for collocation points by introducing a more structured neural network representation leveraging the classical Runge-Kutta time-stepping schemes \\cite{iserles2009first}.\n",
    "\n",
    "## Model specification\n",
    "To provide an overview of the formualtion, let us apply the general form of Runge-Kutta methods with $q$ stages \\cite{iserles2009first} to a general PDE equation and obtain\n",
    "\n",
    "$$\n",
    "\\begin{array}{ll}\n",
    "u^{n+c_i} = u^n - \\Delta t \\sum_{j=1}^q a_{ij} \\mathcal{N}[u^{n+c_j}], \\ \\ i=1,\\ldots,q,\\\\\n",
    "u^{n+1} = u^{n} - \\Delta t \\sum_{j=1}^q b_j \\mathcal{N}[u^{n+c_j}].\n",
    "\\end{array}\n",
    "$$\n",
    "\n",
    "Here, $u^{n+c_j}(x) = u(t^n + c_j \\Delta t, x)$ for $j=1, \\ldots, q$. This general form encapsulates both implicit and explicit time-stepping schemes, depending on the choice of the parameters $\\{a_{ij},b_j,c_j\\}$. The above equations  can be equivalently expressed as\n",
    "\n",
    "$$\n",
    "\\begin{array}{ll}\n",
    "u^{n} = u^n_i, \\ \\ i=1,\\ldots,q,\\\\\n",
    "u^n = u^n_{q+1},\n",
    "\\end{array}\n",
    "$$\n",
    "\n",
    "where\n",
    "\n",
    "$$\n",
    "\\begin{array}{ll}\n",
    "u^n_i := u^{n+c_i} + \\Delta t \\sum_{j=1}^q a_{ij} \\mathcal{N}[u^{n+c_j}], \\ \\ i=1,\\ldots,q,\\\\\n",
    "u^n_{q+1} := u^{n+1} + \\Delta t \\sum_{j=1}^q b_j \\mathcal{N}[u^{n+c_j}].\n",
    "\\end{array}\n",
    "$$\n",
    "\n",
    "We now proceed by placing a multi-output neural network prior on\n",
    "$$\n",
    "\\begin{bmatrix}\n",
    "u^{n+c_1}(x), \\ldots, u^{n+c_q}(x), u^{n+1}(x)\n",
    "\\end{bmatrix}.\n",
    "$$\n",
    "This prior assumption results in a \\emph{physics-informed neural network} (PINN) that takes $x$ as an input and outputs\n",
    "$$\n",
    "\\begin{bmatrix}\n",
    "u^n_1(x), \\ldots, u^n_q(x), u^n_{q+1}(x)\n",
    "\\end{bmatrix}.\n",
    "$$\n",
    "\n",
    "## Model training\n",
    "\n",
    "To illustrate the training procedure of a discrete-time PINN, let us consider the Allen-Cahn equation with periodic boundary conditions\n",
    "\\begin{eqnarray} \\label{eq:Allen-Cahn}\n",
    "&&u_t - 0.0001 u_{xx} + 5 u^3 - 5 u = 0, \\ \\ \\ x \\in [-1,1], \\ \\ \\ t \\in [0,1],\\\\\n",
    "&&u(0, x) = x^2 \\cos(\\pi x),\\nonumber\\\\\n",
    "&&u(t,-1) = u(t,1),\\nonumber\\\\\n",
    "&&u_x(t,-1) = u_x(t,1).\\nonumber\n",
    "\\end{eqnarray}\n",
    "\n",
    "The Allen-Cahn equation is a well-known equation from the area of reaction-diffusion systems. It describes the process of phase separation in multi-component alloy systems, including order-disorder transitions. For the Allen-Cahn equation, the nonlinear operator is given by\n",
    "$$\n",
    "\\mathcal{N}[u^{n+c_j}] = -0.0001 u^{n+c_j}_{xx} + 5 \\left(u^{n+c_j}\\right)^3 - 5 u^{n+c_j},\n",
    "$$\n",
    "and the shared parameters of the neural networks can be learned by minimizing the sum of squared errors\n",
    "\\begin{equation}\n",
    "SSE = SSE_n + SSE_b,\n",
    "\\end{equation}\n",
    "where\n",
    "$$\n",
    "SSE_n = \\sum_{j=1}^{q+1} \\sum_{i=1}^{N_n} |u^n_j(x^{n,i}) - u^{n,i}|^2,\n",
    "$$\n",
    "and\n",
    "\\begin{eqnarray*}\n",
    "SSE_b &=& \\sum_{i=1}^q |u^{n+c_i}(-1) - u^{n+c_i}(1)|^2 + |u^{n+1}(-1) - u^{n+1}(1)|^2 \\\\\n",
    "      &+& \\sum_{i=1}^q |u_x^{n+c_i}(-1) - u_x^{n+c_i}(1)|^2 + |u_x^{n+1}(-1) - u_x^{n+1}(1)|^2.\n",
    "\\end{eqnarray*}\n",
    "Here, $\\{x^{n,i}, u^{n,i}\\}_{i=1}^{N_n}$ corresponds to the data at time-step $t^n$. In classical numerical analysis, these time-steps are usually confined to be small due to stability constraints for explicit schemes or computational complexity constrains for implicit formulations \\cite{iserles2009first}. These constraints become more severe as the total number of Runge-Kutta stages $q$ is increased, and, for most problems of practical interest, one needs to take thousands to millions of such steps until the solution is resolved up to a desired final time. In sharp contrast to classical methods, here we can employ implicit Runge-Kutta schemes with an arbitrarily large number of stages at effectively very little extra cost.To be precise, it is only the number of parameters in the last layer of the neural network that increases linearly with the total number of stages.} This enables us to take very large time steps while retaining stability and high predictive accuracy, therefore allowing us to resolve the entire spatio-temporal solution in a single step."
   ]
  },
  {
   "cell_type": "markdown",
   "metadata": {},
   "source": [
    "# Tensorflow Implementation\n",
    "All elements defining our discrete-time neural network implementation can be summarized in the following Tensorflow class."
   ]
  },
  {
   "cell_type": "code",
   "execution_count": 1,
   "metadata": {},
   "outputs": [
    {
     "name": "stderr",
     "output_type": "stream",
     "text": [
      "/Users/paris/tensorflow/lib/python3.7/importlib/_bootstrap.py:219: RuntimeWarning: compiletime version 3.6 of module 'tensorflow.python.framework.fast_tensor_util' does not match runtime version 3.7\n",
      "  return f(*args, **kwds)\n"
     ]
    }
   ],
   "source": [
    "# Import required packages\n",
    "import tensorflow as tf\n",
    "import numpy as np\n",
    "import matplotlib.pyplot as plt\n",
    "import time\n",
    "from tqdm import tqdm\n",
    "import scipy.io\n",
    "from plotting import newfig, savefig\n",
    "\n",
    "\n",
    "# Fix random seed for reproducibility\n",
    "np.random.seed(1234)\n",
    "tf.set_random_seed(1234)"
   ]
  },
  {
   "cell_type": "code",
   "execution_count": 2,
   "metadata": {},
   "outputs": [],
   "source": [
    "class AllenCahn1D:\n",
    "    # Initialize the class\n",
    "    def __init__(self, x0, u0, x1, layers, dt, q):\n",
    "        \n",
    "        # Normalization constants\n",
    "        self.mu_x, self.sigma_x = x0.mean(0), x0.std(0)\n",
    "        \n",
    "        # Normalize inputs\n",
    "        x0 = (x0 - self.mu_x)/self.sigma_x\n",
    "        x1 = (x1 - self.mu_x)/self.sigma_x\n",
    "        \n",
    "        # Store data in class\n",
    "        self.x0 = x0\n",
    "        self.x1 = x1\n",
    "        self.u0 = u0\n",
    "        \n",
    "        self.layers = layers\n",
    "        self.dt = dt\n",
    "        self.q = max(q,1)\n",
    "    \n",
    "        # Initialize NN\n",
    "        self.weights, self.biases = self.initialize_NN(layers)\n",
    "        \n",
    "        # Load IRK weights\n",
    "        tmp = np.float32(np.loadtxt('../IRK_weights/Butcher_IRK%d.txt' % (q), ndmin = 2))\n",
    "        self.IRK_weights = np.reshape(tmp[0:q**2+q], (q+1,q))\n",
    "        self.IRK_times = tmp[q**2+q:]\n",
    "        \n",
    "        # tf placeholders and graph\n",
    "        self.sess = tf.Session(config=tf.ConfigProto(allow_soft_placement=True,\n",
    "                                                     log_device_placement=True))\n",
    "        \n",
    "        self.x0_tf = tf.placeholder(tf.float32, shape=(None, self.x0.shape[1]))\n",
    "        self.x1_tf = tf.placeholder(tf.float32, shape=(None, self.x1.shape[1]))\n",
    "        self.u0_tf = tf.placeholder(tf.float32, shape=(None, self.u0.shape[1]))\n",
    "        self.dummy_x0_tf = tf.placeholder(tf.float32, shape=(None, self.q)) # dummy variable for fwd_gradients\n",
    "        self.dummy_x1_tf = tf.placeholder(tf.float32, shape=(None, self.q+1)) # dummy variable for fwd_gradients\n",
    "        \n",
    "        self.U0_pred = self.net_U0(self.x0_tf) # N x (q+1)\n",
    "        self.U1_pred, self.U1_x_pred= self.net_U1(self.x1_tf) # N1 x (q+1)\n",
    "        \n",
    "        self.loss = tf.reduce_sum(tf.square(self.u0_tf - self.U0_pred)) + \\\n",
    "                    tf.reduce_sum(tf.square(self.U1_pred[0,:] - self.U1_pred[1,:])) + \\\n",
    "                    tf.reduce_sum(tf.square(self.U1_x_pred[0,:] - self.U1_x_pred[1,:]))                     \n",
    "        \n",
    "        # Define optimizer  with learning rate schedule\n",
    "        self.global_step = tf.Variable(0, trainable=False)\n",
    "        starter_learning_rate = 1e-3\n",
    "        self.learning_rate = tf.train.exponential_decay(starter_learning_rate, self.global_step,\n",
    "                                                   1000, 0.9, staircase=False)\n",
    "        # Passing global_step to minimize() will increment it at each step.\n",
    "        self.train_op = tf.train.AdamOptimizer(self.learning_rate).minimize(self.loss, global_step=self.global_step)\n",
    "                \n",
    "        # Define optimizer (use L-BFGS for better accuracy)       \n",
    "        self.optimizer = tf.contrib.opt.ScipyOptimizerInterface(self.loss, \n",
    "                                                                method = 'L-BFGS-B', \n",
    "                                                                options = {'maxiter': 50000,\n",
    "                                                                           'maxfun': 50000,\n",
    "                                                                           'maxcor': 50,\n",
    "                                                                           'maxls': 50,\n",
    "                                                                           'ftol' : 1.0 * np.finfo(np.float32).eps})\n",
    "        \n",
    "        # Logger\n",
    "        self.loss_log = []\n",
    "        self.saver = tf.train.Saver()\n",
    "        \n",
    "        init = tf.global_variables_initializer()\n",
    "        self.sess.run(init)\n",
    "        \n",
    "    def initialize_NN(self, layers):        \n",
    "        weights = []\n",
    "        biases = []\n",
    "        num_layers = len(layers) \n",
    "        for l in range(0,num_layers-1):\n",
    "            W = self.xavier_init(size=[layers[l], layers[l+1]])\n",
    "            b = tf.Variable(tf.zeros([1,layers[l+1]], dtype=tf.float32), dtype=tf.float32)\n",
    "            weights.append(W)\n",
    "            biases.append(b)        \n",
    "        return weights, biases\n",
    "        \n",
    "    def xavier_init(self, size):\n",
    "        in_dim = size[0]\n",
    "        out_dim = size[1]        \n",
    "        xavier_stddev = np.sqrt(2/(in_dim + out_dim))\n",
    "        return tf.Variable(tf.truncated_normal([in_dim, out_dim], stddev=xavier_stddev), dtype=tf.float32)\n",
    "    \n",
    "    # Evaluates the forward pass\n",
    "    def forward_pass(self, H):\n",
    "        num_layers = len(self.layers)\n",
    "        for l in range(0,num_layers-2):\n",
    "            W = self.weights[l]\n",
    "            b = self.biases[l]\n",
    "            H = tf.tanh(tf.add(tf.matmul(H, W), b))\n",
    "        W = self.weights[-1]\n",
    "        b = self.biases[-1]\n",
    "        H = tf.add(tf.matmul(H, W), b)\n",
    "        return H\n",
    "    \n",
    "    def fwd_gradients_0(self, U, x):        \n",
    "        g = tf.gradients(U, x, grad_ys=self.dummy_x0_tf)[0]\n",
    "        return tf.gradients(g, self.dummy_x0_tf)[0]\n",
    "    \n",
    "    def fwd_gradients_1(self, U, x):        \n",
    "        g = tf.gradients(U, x, grad_ys=self.dummy_x1_tf)[0]\n",
    "        return tf.gradients(g, self.dummy_x1_tf)[0]\n",
    "    \n",
    "    def net_U0(self, x):\n",
    "        U1 = self.forward_pass(x)\n",
    "        U = U1[:,:-1]\n",
    "        U_x = self.fwd_gradients_0(U, x)/self.sigma_x\n",
    "        U_xx = self.fwd_gradients_0(U_x, x)/self.sigma_x\n",
    "        F = 5.0*U - 5.0*U**3 + 0.0001*U_xx\n",
    "        U0 = U1 - self.dt*tf.matmul(F, self.IRK_weights.T)\n",
    "        return U0\n",
    "\n",
    "    def net_U1(self, x):\n",
    "        U1 = self.forward_pass(x)\n",
    "        U1_x = self.fwd_gradients_1(U1, x)/self.sigma_x\n",
    "        return U1, U1_x # N x (q+1)\n",
    "    \n",
    "    def callback(self, loss):\n",
    "        print('Loss:', loss)\n",
    "    \n",
    "    def train(self, nIter):\n",
    "        tf_dict = {self.x0_tf: self.x0, self.u0_tf: self.u0, self.x1_tf: self.x1,\n",
    "                   self.dummy_x0_tf: np.ones((self.x0.shape[0], self.q)),\n",
    "                   self.dummy_x1_tf: np.ones((self.x1.shape[0], self.q+1))}\n",
    "        \n",
    "        start_time = time.time()\n",
    "        for it in tqdm(range(nIter)):\n",
    "            # Run the Tensorflow session to minimize the loss\n",
    "            self.sess.run(self.train_op, tf_dict)\n",
    "            \n",
    "            # Print\n",
    "            if it % 50 == 0:\n",
    "                elapsed = time.time() - start_time\n",
    "                loss_value = self.sess.run(self.loss, tf_dict)\n",
    "                self.loss_log.append(loss_value)\n",
    "#                 print('It: %d, Loss: %.3e, Time: %.2f' % \n",
    "#                       (it, loss_value, elapsed))\n",
    "                start_time = time.time()\n",
    "    \n",
    "    \n",
    "    # Trains the model by minimizing the MSE loss using L-BFGS\n",
    "    def fine_tune(self):\n",
    "        # Define a dictionary for associating placeholders with data\n",
    "        tf_dict = {self.x0_tf: self.x0, self.u0_tf: self.u0, self.x1_tf: self.x1,\n",
    "                   self.dummy_x0_tf: np.ones((self.x0.shape[0], self.q)),\n",
    "                   self.dummy_x1_tf: np.ones((self.x1.shape[0], self.q+1))}\n",
    "\n",
    "        # Call SciPy's L-BFGS otpimizer\n",
    "        self.optimizer.minimize(self.sess,\n",
    "                                feed_dict = tf_dict,\n",
    "                                fetches = [self.loss],\n",
    "                                loss_callback = self.callback)\n",
    "        \n",
    "    def predict(self, x_star):\n",
    "        x_star = (x_star - self.mu_x)/self.sigma_x\n",
    "        U1_star = self.sess.run(self.U1_pred, {self.x1_tf: x_star})          \n",
    "        return U1_star"
   ]
  },
  {
   "cell_type": "markdown",
   "metadata": {},
   "source": [
    "# Example simulation\n",
    "\n",
    "Now we are ready to set up and execute our first discrete-time PINN simulation. "
   ]
  },
  {
   "cell_type": "code",
   "execution_count": 3,
   "metadata": {},
   "outputs": [],
   "source": [
    "# Number of IRK stages\n",
    "q = 100\n",
    "\n",
    "# Fully-connected neural net architecture (dimensions of each layer)\n",
    "layers = [1, 200, 200, 200, 200, q+1]\n",
    "\n",
    "# Domain bounds\n",
    "lb = np.array([-1.0])\n",
    "ub = np.array([1.0])\n",
    "\n",
    "# Number of spatial points\n",
    "N = 200\n",
    "\n",
    "# Load reference solution computed with a high-order spectral method\n",
    "data = scipy.io.loadmat('../data/AC.mat')\n",
    "\n",
    "# Fetch space/time points and solution values\n",
    "t = data['tt'].flatten()[:,None] # T x 1\n",
    "x = data['x'].flatten()[:,None] # N x 1\n",
    "Exact = np.real(data['uu']).T # T x N\n",
    "\n",
    "# Determine two temporal snapshots to be used as training data\n",
    "idx_t0 = 20\n",
    "idx_t1 = 180\n",
    "dt = t[idx_t1] - t[idx_t0]"
   ]
  },
  {
   "cell_type": "code",
   "execution_count": 4,
   "metadata": {},
   "outputs": [],
   "source": [
    "# Initial data (randomly subsampled from true solution at time t0)\n",
    "noise_u0 = 0.0\n",
    "idx_x = np.random.choice(Exact.shape[1], N, replace=False) \n",
    "x0 = x[idx_x,:]\n",
    "u0 = Exact[idx_t0:idx_t0+1,idx_x].T\n",
    "u0 = u0 + noise_u0*np.std(u0)*np.random.randn(u0.shape[0], u0.shape[1])\n",
    "\n",
    "# Location of boudanry data\n",
    "x1 = np.vstack((lb,ub))\n",
    "\n",
    "# Test data\n",
    "x_star = x"
   ]
  },
  {
   "cell_type": "code",
   "execution_count": 5,
   "metadata": {},
   "outputs": [
    {
     "name": "stderr",
     "output_type": "stream",
     "text": [
      "WARNING: Logging before flag parsing goes to stderr.\n",
      "W0724 21:12:05.719909 4593620416 deprecation.py:323] From /Users/paris/tensorflow/lib/python3.7/site-packages/tensorflow/python/ops/math_grad.py:1205: add_dispatch_support.<locals>.wrapper (from tensorflow.python.ops.array_ops) is deprecated and will be removed in a future version.\n",
      "Instructions for updating:\n",
      "Use tf.where in 2.0, which has the same broadcast rule as np.where\n",
      "W0724 21:12:06.860387 4593620416 lazy_loader.py:50] \n",
      "The TensorFlow contrib module will not be included in TensorFlow 2.0.\n",
      "For more information, please see:\n",
      "  * https://github.com/tensorflow/community/blob/master/rfcs/20180907-contrib-sunset.md\n",
      "  * https://github.com/tensorflow/addons\n",
      "  * https://github.com/tensorflow/io (for I/O related ops)\n",
      "If you depend on functionality not listed there, please file an issue.\n",
      "\n"
     ]
    }
   ],
   "source": [
    "#  Define discrete-time PINN model\n",
    "model = AllenCahn1D(x0, u0, x1, layers, dt, q)"
   ]
  },
  {
   "cell_type": "code",
   "execution_count": 6,
   "metadata": {},
   "outputs": [
    {
     "name": "stderr",
     "output_type": "stream",
     "text": [
      "100%|██████████| 1200000/1200000 [4:45:12<00:00, 71.61it/s]  \n"
     ]
    }
   ],
   "source": [
    "# Train model using full batch gradient descent\n",
    "model.train(1200000)"
   ]
  },
  {
   "cell_type": "code",
   "execution_count": 10,
   "metadata": {},
   "outputs": [
    {
     "name": "stdout",
     "output_type": "stream",
     "text": [
      "Relative L2 error: 1.660977e-02\n"
     ]
    }
   ],
   "source": [
    "# Compute prediction using the trained model\n",
    "U1_pred = model.predict(x_star)\n",
    "error = np.linalg.norm(U1_pred[:,-1] - Exact[idx_t1,:], 2)/np.linalg.norm(Exact[idx_t1,:], 2)\n",
    "print('Relative L2 error: %e' % (error))"
   ]
  },
  {
   "cell_type": "code",
   "execution_count": 11,
   "metadata": {},
   "outputs": [
    {
     "data": {
      "text/plain": [
       "<matplotlib.legend.Legend at 0x7fab4a0f7a58>"
      ]
     },
     "execution_count": 11,
     "metadata": {},
     "output_type": "execute_result"
    },
    {
     "data": {
      "image/png": "[encoded data removed]",
      "text/plain": [
       "<Figure size 432x288 with 1 Axes>"
      ]
     },
     "metadata": {
      "needs_background": "light"
     },
     "output_type": "display_data"
    }
   ],
   "source": [
    "# Plotting\n",
    "fig = plt.figure(1)\n",
    "ax = fig.add_subplot(1,1,1)\n",
    "ax.plot(model.loss_log, label = '$u$')\n",
    "ax.set_yscale('log')\n",
    "plt.legend()"
   ]
  },
  {
   "cell_type": "code",
   "execution_count": 12,
   "metadata": {},
   "outputs": [
    {
     "data": {
      "text/plain": [
       "'./SavedModels/AllenCahn1D.ckpt'"
      ]
     },
     "execution_count": 12,
     "metadata": {},
     "output_type": "execute_result"
    }
   ],
   "source": [
    "# Save model\n",
    "model.saver.save(model.sess, \"./SavedModels/AllenCahn1D.ckpt\")"
   ]
  },
  {
   "cell_type": "code",
   "execution_count": null,
   "metadata": {},
   "outputs": [],
   "source": []
  }
 ],
 "metadata": {
  "kernelspec": {
   "display_name": "tensorflow",
   "language": "python",
   "name": "tensorflow"
  },
  "language_info": {
   "codemirror_mode": {
    "name": "ipython",
    "version": 3
   },
   "file_extension": ".py",
   "mimetype": "text/x-python",
   "name": "python",
   "nbconvert_exporter": "python",
   "pygments_lexer": "ipython3",
   "version": "3.7.3"
  }
 },
 "nbformat": 4,
 "nbformat_minor": 2
}
